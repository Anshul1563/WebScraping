{
 "cells": [
  {
   "cell_type": "code",
   "execution_count": null,
   "metadata": {},
   "outputs": [],
   "source": [
    "import praw\n",
    "import pandas as pd\n",
    "reddit = praw.Reddit(\n",
    "    client_id=\"wBlYlJ7XtNtL0d1fEAj-vg\",\n",
    "    client_secret=\"muW07OSaCr5I4Dj23Sn7HeFeoifSLg\",\n",
    "    user_agent=\"a12487\"\n",
    ")"
   ]
  },
  {
   "cell_type": "code",
   "execution_count": null,
   "metadata": {},
   "outputs": [],
   "source": [
    "subs = ['AskReddit','memes','gaming','funny','news','wallstreetbets','unexpected','pics','damnthatsinteresting','movies']\n",
    "data = {}\n",
    "for x in subs :\n",
    "     for y in reddit.subreddit(x).top('day',limit=1):\n",
    "         data[x] = y.score\n",
    "print(data)"
   ]
  },
  {
   "cell_type": "code",
   "execution_count": null,
   "metadata": {},
   "outputs": [],
   "source": [
    "file = open('Stored Upvotes.txt','w')\n",
    "str = repr(data)\n",
    "file.write('Day 1 > Data=' + str + \"\\n\")\n",
    "file.close()"
   ]
  },
  {
   "cell_type": "code",
   "execution_count": null,
   "metadata": {},
   "outputs": [],
   "source": [
    "import plotly.express as px\n",
    "fig = px.bar(x=data.keys(), y=data.values(),text_auto=True,labels={'x':'Subreddits','y':'Upvotes'},title='Topmost upvoted posts of the day')\n",
    "fig.update_layout(xaxis_tickangle=-45)\n",
    "fig.show()"
   ]
  },
  {
   "cell_type": "code",
   "execution_count": null,
   "metadata": {},
   "outputs": [],
   "source": [
    "#s  = reddit.submission(url='https://www.reddit.com/r/pics/comments/haucpf/ive_found_a_few_funny_memories_during_lockdown/')\n",
    "ab = 0\n",
    "Dict= {}\n",
    "ids = []\n",
    "subs = []\n",
    "bodies =[]\n",
    "user = []\n",
    "score = []\n",
    "for s in reddit.subreddit(\"all\").search(\"rick\",sort='top',limit=49):\n",
    "    print(s.subreddit)\n",
    "    s.comment_sort='top'\n",
    "    s.comments.replace_more(limit=1)\n",
    "    a =[]\n",
    "    for x in s.comments.list():\n",
    "        #print(x.score)\n",
    "        a.append(x)\n",
    "        for y in x.replies:\n",
    "            #print(y.score)\n",
    "            a.append(y)\n",
    "            for z in y.replies:\n",
    "                #print(z.score)\n",
    "                a.append(z)\n",
    "                for g in z.replies:\n",
    "                    #print(g.score)\n",
    "                    a.append(g)\n",
    "    print('Number of comments > ',len(a))\n",
    "    bc=0\n",
    "    for x in a:\n",
    "        if 'ub82Xb1C8os' in x.body or 'dQw4w9WgXcQ' in x.body :\n",
    "            ids.append(x)\n",
    "            subs.append(x.subreddit.display_name)\n",
    "            bodies.append(x.body)\n",
    "            user.append(x.author)\n",
    "            score.append(x.score)\n",
    "            bc+=1\n",
    "            ab +=1\n",
    "    print(bc)\n",
    "    if s.subreddit.display_name not in Dict.keys() and bc!=0:\n",
    "            Dict[s.subreddit.display_name] = bc\n",
    "    elif s.subreddit.display_name in Dict.keys() :\n",
    "        Dict[s.subreddit.display_name] +=bc\n",
    "    print('.................')\n",
    "print(ab)"
   ]
  },
  {
   "cell_type": "code",
   "execution_count": null,
   "metadata": {},
   "outputs": [],
   "source": [
    "Data  = {'subs' :subs,'ids' : ids,'user' :user,'score':score}\n",
    "df = pd.DataFrame(Data)\n",
    "print(df)\n"
   ]
  },
  {
   "cell_type": "code",
   "execution_count": null,
   "metadata": {},
   "outputs": [],
   "source": [
    "import plotly.express as px\n",
    "fig = px.bar(x=Dict.keys(),y=Dict.values(),text_auto=True,labels={'x':'Subreddit','y':'Count'},title='Frequency of rickrolls in subreddits')\n",
    "fig.update_layout(xaxis_tickangle=-90)\n",
    "fig.show()"
   ]
  }
 ],
 "metadata": {
  "interpreter": {
   "hash": "e1c00fcee516162d59010bdb491f784c4614d26a2b20c3aea8cb7abd91b8e3b7"
  },
  "kernelspec": {
   "display_name": "Python 3.9.2 64-bit",
   "language": "python",
   "name": "python3"
  },
  "language_info": {
   "codemirror_mode": {
    "name": "ipython",
    "version": 3
   },
   "file_extension": ".py",
   "mimetype": "text/x-python",
   "name": "python",
   "nbconvert_exporter": "python",
   "pygments_lexer": "ipython3",
   "version": "3.8.5"
  },
  "orig_nbformat": 4
 },
 "nbformat": 4,
 "nbformat_minor": 2
}
