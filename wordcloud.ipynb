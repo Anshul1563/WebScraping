{
 "cells": [
  {
   "cell_type": "code",
   "execution_count": 14,
   "metadata": {},
   "outputs": [],
   "source": [
    "import praw\n",
    "reddit = praw.Reddit(\n",
    "    client_id=\"wBlYlJ7XtNtL0d1fEAj-vg\",\n",
    "    client_secret=\"muW07OSaCr5I4Dj23Sn7HeFeoifSLg\",\n",
    "    user_agent=\"a12487\"\n",
    ")\n",
    "from wordcloud import WordCloud"
   ]
  },
  {
   "cell_type": "code",
   "execution_count": 12,
   "metadata": {},
   "outputs": [],
   "source": [
    "def wordcloud(n,Subs):\n",
    "    subreddit = reddit.subreddit(Subs)\n",
    "    sub_title = []\n",
    "    for submission in subreddit.top('all',limit = n):\n",
    "        sub_title.append(submission.title)\n",
    "    y = []\n",
    "    for x in sub_title:\n",
    "        x = x.lower()\n",
    "        y.append(x)\n",
    "    wordcloud = WordCloud(width = 1200, height = 600, max_font_size = 200,background_color = 'white', colormap = 'viridis')\n",
    "    wordcloud = wordcloud.generate(' '.join(y))\n",
    "    img = wordcloud.to_image()\n",
    "    img.show()\n",
    "\n"
   ]
  }
 ],
 "metadata": {
  "interpreter": {
   "hash": "10ea401c57974083d72007c9f9dc3837b0d2be6d72a3c23504e3a619fd0fed26"
  },
  "kernelspec": {
   "display_name": "Python 3.8.5 64-bit",
   "language": "python",
   "name": "python3"
  },
  "language_info": {
   "codemirror_mode": {
    "name": "ipython",
    "version": 3
   },
   "file_extension": ".py",
   "mimetype": "text/x-python",
   "name": "python",
   "nbconvert_exporter": "python",
   "pygments_lexer": "ipython3",
   "version": "3.8.5"
  },
  "orig_nbformat": 4
 },
 "nbformat": 4,
 "nbformat_minor": 2
}
