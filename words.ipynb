{
 "cells": [
  {
   "cell_type": "code",
   "execution_count": null,
   "metadata": {},
   "outputs": [],
   "source": [
    "import pandas as pd     #(version 1.0.0)\n",
    "import plotly           #(version 4.5.0)\n",
    "import plotly.express as px\n",
    "\n",
    "import dash             #(version 1.8.0)\n",
    "import dash_core_components as dcc\n",
    "import dash_html_components as html\n",
    "from dash.dependencies import Input, Output, State\n",
    "from dash.exceptions import PreventUpdate\n",
    "import praw\n",
    "reddit = praw.Reddit(\n",
    "    client_id=\"wBlYlJ7XtNtL0d1fEAj-vg\",\n",
    "    client_secret=\"muW07OSaCr5I4Dj23Sn7HeFeoifSLg\",\n",
    "    user_agent=\"a12487\"\n",
    ")\n",
    "from wordcloud import WordCloud\n",
    "import cv2 "
   ]
  },
  {
   "cell_type": "code",
   "execution_count": null,
   "metadata": {},
   "outputs": [],
   "source": [
    "def wordcloud(sub,n):\n",
    "        subreddit = reddit.subreddit(sub)\n",
    "        sub_title = []\n",
    "        for submission in subreddit.top('all',limit = n):\n",
    "            sub_title.append(submission.title)\n",
    "        y = []\n",
    "        for x in sub_title:\n",
    "            x = x.lower()\n",
    "            y.append(x)\n",
    "        wordcloud = WordCloud(width = 1200, height = 600, max_font_size = 200,background_color = 'white', colormap = 'viridis')\n",
    "        wordcloud = wordcloud.generate(' '.join(y))\n",
    "        img = wordcloud.to_file('work.png')\n",
    "        df3 = cv2.imread('work.png')\n",
    "        return df3\n"
   ]
  },
  {
   "cell_type": "code",
   "execution_count": null,
   "metadata": {},
   "outputs": [],
   "source": [
    "# (Check the return value of wordcloud) Assume that df3 is a dataframe and do the same as u did for other graphs and use fig = px.imshow()\n",
    "# Also dont forget to import wordcloud and cv2\n",
    "\n",
    "def goes_in_callback():\n",
    "    df3 = wordcloud('memes',100) #Replace(memes,1000) with (input1,input2)\n",
    "    fig = px.imshow(df3)        \n",
    "    fig.update_layout(title_text='Commonly used words',title_x=0.5)\n",
    "    #x axis\n",
    "    fig.update_xaxes(visible=False)    \n",
    "    fig.update_yaxes(visible=False)\n",
    "    return fig\n",
    "\n",
    "\n",
    "goes_in_callback()"
   ]
  }
 ],
 "metadata": {
  "interpreter": {
   "hash": "10ea401c57974083d72007c9f9dc3837b0d2be6d72a3c23504e3a619fd0fed26"
  },
  "kernelspec": {
   "display_name": "Python 3.8.5 64-bit",
   "language": "python",
   "name": "python3"
  },
  "language_info": {
   "codemirror_mode": {
    "name": "ipython",
    "version": 3
   },
   "file_extension": ".py",
   "mimetype": "text/x-python",
   "name": "python",
   "nbconvert_exporter": "python",
   "pygments_lexer": "ipython3",
   "version": "3.8.5"
  },
  "orig_nbformat": 4
 },
 "nbformat": 4,
 "nbformat_minor": 2
}
