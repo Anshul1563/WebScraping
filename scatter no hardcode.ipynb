{
 "cells": [
  {
   "cell_type": "code",
   "execution_count": 1,
   "metadata": {},
   "outputs": [
    {
     "data": {
      "text/html": [
       "        <script type=\"text/javascript\">\n",
       "        window.PlotlyConfig = {MathJaxConfig: 'local'};\n",
       "        if (window.MathJax) {MathJax.Hub.Config({SVG: {font: \"STIX-Web\"}});}\n",
       "        if (typeof require !== 'undefined') {\n",
       "        require.undef(\"plotly\");\n",
       "        requirejs.config({\n",
       "            paths: {\n",
       "                'plotly': ['https://cdn.plot.ly/plotly-2.8.3.min']\n",
       "            }\n",
       "        });\n",
       "        require(['plotly'], function(Plotly) {\n",
       "            window._Plotly = Plotly;\n",
       "        });\n",
       "        }\n",
       "        </script>\n",
       "        "
      ]
     },
     "metadata": {},
     "output_type": "display_data"
    },
    {
     "data": {
      "text/html": [
       "        <script type=\"text/javascript\">\n",
       "        window.PlotlyConfig = {MathJaxConfig: 'local'};\n",
       "        if (window.MathJax) {MathJax.Hub.Config({SVG: {font: \"STIX-Web\"}});}\n",
       "        if (typeof require !== 'undefined') {\n",
       "        require.undef(\"plotly\");\n",
       "        requirejs.config({\n",
       "            paths: {\n",
       "                'plotly': ['https://cdn.plot.ly/plotly-2.8.3.min']\n",
       "            }\n",
       "        });\n",
       "        require(['plotly'], function(Plotly) {\n",
       "            window._Plotly = Plotly;\n",
       "        });\n",
       "        }\n",
       "        </script>\n",
       "        "
      ]
     },
     "metadata": {},
     "output_type": "display_data"
    }
   ],
   "source": [
    "import praw\n",
    "reddit = praw.Reddit(\n",
    "    client_id=\"wBlYlJ7XtNtL0d1fEAj-vg\",\n",
    "    client_secret=\"muW07OSaCr5I4Dj23Sn7HeFeoifSLg\",\n",
    "    user_agent=\"a12487\"\n",
    ")\n",
    "import pandas as pd\n",
    "import numpy as np\n",
    "import chart_studio.plotly as py\n",
    "import cufflinks as cf\n",
    "import seaborn as sns\n",
    "import plotly.express as px\n",
    "%matplotlib inline\n",
    "from plotly.offline import download_plotlyjs, init_notebook_mode, plot, iplot\n",
    "init_notebook_mode(connected=True)\n",
    "cf.go_offline()\n",
    "import plotly.graph_objects as go"
   ]
  },
  {
   "cell_type": "code",
   "execution_count": 2,
   "metadata": {},
   "outputs": [],
   "source": [
    "def scatter(n,*subs):        # n is the number of posts per subreddit\n",
    "    data = []\n",
    "    for x in subs:\n",
    "        for y in reddit.subreddit(x).top('day',limit=n):\n",
    "            data.append([y.subreddit.display_name,y.score,y.num_comments,str(y.author.name),y.total_awards_received,y.url])\n",
    "    df = pd.DataFrame(data, columns =['Subreddit', 'Upvotes', 'Total Comments','Username','Total Awards','url'])\n",
    "    return df\n",
    "\n",
    "\n"
   ]
  },
  {
   "cell_type": "code",
   "execution_count": 7,
   "metadata": {},
   "outputs": [
    {
     "data": {
      "application/vnd.plotly.v1+json": {
       "config": {
        "plotlyServerURL": "https://plot.ly"
       },
       "data": [
        {
         "customdata": [
          [
           "RegularNoodles"
          ],
          [
           "Vesto241"
          ],
          [
           "Appropriate_Check125"
          ],
          [
           "88T3"
          ],
          [
           "Crossbar-Hero"
          ],
          [
           "Edward_Penishand"
          ],
          [
           "Late-Swimmer-3194"
          ],
          [
           "Vinsmoke_Yagami"
          ],
          [
           "HundredPannyz"
          ],
          [
           "PooPooDooDoo"
          ]
         ],
         "hovertemplate": "Subreddit=memes<br>Upvotes=%{x}<br>Total Awards=%{y}<br>Total Comments=%{marker.size}<br>Username=%{customdata[0]}<extra></extra>",
         "legendgroup": "memes",
         "marker": {
          "color": "#636efa",
          "size": [
           496,
           433,
           220,
           340,
           484,
           49,
           55,
           87,
           105,
           302
          ],
          "sizemode": "area",
          "sizeref": 0.768,
          "symbol": "circle"
         },
         "mode": "markers",
         "name": "memes",
         "orientation": "v",
         "showlegend": true,
         "type": "scatter",
         "x": [
          73400,
          67112,
          31495,
          28063,
          19641,
          16109,
          14959,
          13674,
          12698,
          12438
         ],
         "xaxis": "x",
         "y": [
          154,
          66,
          24,
          53,
          15,
          13,
          10,
          5,
          20,
          11
         ],
         "yaxis": "y"
        },
        {
         "customdata": [
          [
           "wecookingitup"
          ],
          [
           "clopz_"
          ],
          [
           "SwollenLeftThumb"
          ],
          [
           "KSH98"
          ],
          [
           "kchoyin"
          ],
          [
           "The_Love-Tap"
          ],
          [
           "Killshot64"
          ],
          [
           "shamansufi"
          ],
          [
           "BusyBusyBizzy"
          ],
          [
           "GroundbreakingSet187"
          ]
         ],
         "hovertemplate": "Subreddit=Damnthatsinteresting<br>Upvotes=%{x}<br>Total Awards=%{y}<br>Total Comments=%{marker.size}<br>Username=%{customdata[0]}<extra></extra>",
         "legendgroup": "Damnthatsinteresting",
         "marker": {
          "color": "#EF553B",
          "size": [
           1920,
           1876,
           837,
           285,
           449,
           214,
           206,
           258,
           227,
           101
          ],
          "sizemode": "area",
          "sizeref": 0.768,
          "symbol": "circle"
         },
         "mode": "markers",
         "name": "Damnthatsinteresting",
         "orientation": "v",
         "showlegend": true,
         "type": "scatter",
         "x": [
          71603,
          53746,
          26864,
          27449,
          15724,
          13394,
          5500,
          4608,
          3320,
          2614
         ],
         "xaxis": "x",
         "y": [
          56,
          87,
          37,
          46,
          25,
          9,
          3,
          4,
          8,
          1
         ],
         "yaxis": "y"
        },
        {
         "customdata": [
          [
           "Sn-Quentin"
          ],
          [
           "aaravaryaman"
          ],
          [
           "Zer0theNumberr"
          ],
          [
           "mavenmike"
          ],
          [
           "passing-through-"
          ],
          [
           "ZiraelN7"
          ],
          [
           "ninety2two"
          ],
          [
           "Treefiddy1984"
          ],
          [
           "DaWeyHowBoutDah"
          ],
          [
           "Leading_Technician"
          ]
         ],
         "hovertemplate": "Subreddit=Unexpected<br>Upvotes=%{x}<br>Total Awards=%{y}<br>Total Comments=%{marker.size}<br>Username=%{customdata[0]}<extra></extra>",
         "legendgroup": "Unexpected",
         "marker": {
          "color": "#00cc96",
          "size": [
           1126,
           1645,
           94,
           594,
           177,
           46,
           54,
           69,
           129,
           76
          ],
          "sizemode": "area",
          "sizeref": 0.768,
          "symbol": "circle"
         },
         "mode": "markers",
         "name": "Unexpected",
         "orientation": "v",
         "showlegend": true,
         "type": "scatter",
         "x": [
          92779,
          86924,
          15509,
          10644,
          10933,
          6056,
          6139,
          4732,
          2437,
          2099
         ],
         "xaxis": "x",
         "y": [
          116,
          184,
          11,
          11,
          5,
          4,
          3,
          3,
          4,
          11
         ],
         "yaxis": "y"
        },
        {
         "customdata": [
          [
           "knivesxonly"
          ],
          [
           "juicy_chase"
          ],
          [
           "solidiquis1"
          ],
          [
           "Handsome_Unit69"
          ],
          [
           "theDeadizDead"
          ],
          [
           "YarraYarra"
          ],
          [
           "Ftlauddawg"
          ],
          [
           "theycantalk"
          ],
          [
           "MyDogGoldi"
          ],
          [
           "Specter017"
          ]
         ],
         "hovertemplate": "Subreddit=funny<br>Upvotes=%{x}<br>Total Awards=%{y}<br>Total Comments=%{marker.size}<br>Username=%{customdata[0]}<extra></extra>",
         "legendgroup": "funny",
         "marker": {
          "color": "#ab63fa",
          "size": [
           1233,
           48,
           228,
           203,
           172,
           203,
           1013,
           56,
           160,
           181
          ],
          "sizemode": "area",
          "sizeref": 0.768,
          "symbol": "circle"
         },
         "mode": "markers",
         "name": "funny",
         "orientation": "v",
         "showlegend": true,
         "type": "scatter",
         "x": [
          43103,
          30572,
          22873,
          22916,
          16582,
          14542,
          11852,
          7485,
          7046,
          5594
         ],
         "xaxis": "x",
         "y": [
          30,
          18,
          23,
          26,
          21,
          6,
          21,
          2,
          13,
          4
         ],
         "yaxis": "y"
        },
        {
         "customdata": [
          [
           "mmajamm"
          ],
          [
           "vladgrinch"
          ],
          [
           "boykob"
          ],
          [
           "The_Love-Tap"
          ],
          [
           "Kinofetish"
          ],
          [
           "NickyboySP"
          ],
          [
           "pigjingles"
          ],
          [
           "OsamaCripWalkz"
          ],
          [
           "lmaosmh"
          ],
          [
           "AmVeryVery"
          ]
         ],
         "hovertemplate": "Subreddit=aww<br>Upvotes=%{x}<br>Total Awards=%{y}<br>Total Comments=%{marker.size}<br>Username=%{customdata[0]}<extra></extra>",
         "legendgroup": "aww",
         "marker": {
          "color": "#FFA15A",
          "size": [
           612,
           474,
           629,
           103,
           234,
           58,
           38,
           33,
           24,
           23
          ],
          "sizemode": "area",
          "sizeref": 0.768,
          "symbol": "circle"
         },
         "mode": "markers",
         "name": "aww",
         "orientation": "v",
         "showlegend": true,
         "type": "scatter",
         "x": [
          71344,
          48415,
          41163,
          21160,
          15856,
          7290,
          6821,
          4736,
          3640,
          2547
         ],
         "xaxis": "x",
         "y": [
          189,
          127,
          56,
          56,
          51,
          13,
          6,
          7,
          11,
          3
         ],
         "yaxis": "y"
        }
       ],
       "layout": {
        "legend": {
         "bgcolor": "LightYellow",
         "bordercolor": "LightBlue",
         "borderwidth": 2,
         "font": {
          "color": "Red",
          "family": "Courier",
          "size": 12
         },
         "itemsizing": "constant",
         "title": {
          "text": "Subreddit"
         },
         "tracegroupgap": 0
        },
        "margin": {
         "t": 60
        },
        "template": {
         "data": {
          "bar": [
           {
            "error_x": {
             "color": "#2a3f5f"
            },
            "error_y": {
             "color": "#2a3f5f"
            },
            "marker": {
             "line": {
              "color": "#E5ECF6",
              "width": 0.5
             },
             "pattern": {
              "fillmode": "overlay",
              "size": 10,
              "solidity": 0.2
             }
            },
            "type": "bar"
           }
          ],
          "barpolar": [
           {
            "marker": {
             "line": {
              "color": "#E5ECF6",
              "width": 0.5
             },
             "pattern": {
              "fillmode": "overlay",
              "size": 10,
              "solidity": 0.2
             }
            },
            "type": "barpolar"
           }
          ],
          "carpet": [
           {
            "aaxis": {
             "endlinecolor": "#2a3f5f",
             "gridcolor": "white",
             "linecolor": "white",
             "minorgridcolor": "white",
             "startlinecolor": "#2a3f5f"
            },
            "baxis": {
             "endlinecolor": "#2a3f5f",
             "gridcolor": "white",
             "linecolor": "white",
             "minorgridcolor": "white",
             "startlinecolor": "#2a3f5f"
            },
            "type": "carpet"
           }
          ],
          "choropleth": [
           {
            "colorbar": {
             "outlinewidth": 0,
             "ticks": ""
            },
            "type": "choropleth"
           }
          ],
          "contour": [
           {
            "colorbar": {
             "outlinewidth": 0,
             "ticks": ""
            },
            "colorscale": [
             [
              0,
              "#0d0887"
             ],
             [
              0.1111111111111111,
              "#46039f"
             ],
             [
              0.2222222222222222,
              "#7201a8"
             ],
             [
              0.3333333333333333,
              "#9c179e"
             ],
             [
              0.4444444444444444,
              "#bd3786"
             ],
             [
              0.5555555555555556,
              "#d8576b"
             ],
             [
              0.6666666666666666,
              "#ed7953"
             ],
             [
              0.7777777777777778,
              "#fb9f3a"
             ],
             [
              0.8888888888888888,
              "#fdca26"
             ],
             [
              1,
              "#f0f921"
             ]
            ],
            "type": "contour"
           }
          ],
          "contourcarpet": [
           {
            "colorbar": {
             "outlinewidth": 0,
             "ticks": ""
            },
            "type": "contourcarpet"
           }
          ],
          "heatmap": [
           {
            "colorbar": {
             "outlinewidth": 0,
             "ticks": ""
            },
            "colorscale": [
             [
              0,
              "#0d0887"
             ],
             [
              0.1111111111111111,
              "#46039f"
             ],
             [
              0.2222222222222222,
              "#7201a8"
             ],
             [
              0.3333333333333333,
              "#9c179e"
             ],
             [
              0.4444444444444444,
              "#bd3786"
             ],
             [
              0.5555555555555556,
              "#d8576b"
             ],
             [
              0.6666666666666666,
              "#ed7953"
             ],
             [
              0.7777777777777778,
              "#fb9f3a"
             ],
             [
              0.8888888888888888,
              "#fdca26"
             ],
             [
              1,
              "#f0f921"
             ]
            ],
            "type": "heatmap"
           }
          ],
          "heatmapgl": [
           {
            "colorbar": {
             "outlinewidth": 0,
             "ticks": ""
            },
            "colorscale": [
             [
              0,
              "#0d0887"
             ],
             [
              0.1111111111111111,
              "#46039f"
             ],
             [
              0.2222222222222222,
              "#7201a8"
             ],
             [
              0.3333333333333333,
              "#9c179e"
             ],
             [
              0.4444444444444444,
              "#bd3786"
             ],
             [
              0.5555555555555556,
              "#d8576b"
             ],
             [
              0.6666666666666666,
              "#ed7953"
             ],
             [
              0.7777777777777778,
              "#fb9f3a"
             ],
             [
              0.8888888888888888,
              "#fdca26"
             ],
             [
              1,
              "#f0f921"
             ]
            ],
            "type": "heatmapgl"
           }
          ],
          "histogram": [
           {
            "marker": {
             "pattern": {
              "fillmode": "overlay",
              "size": 10,
              "solidity": 0.2
             }
            },
            "type": "histogram"
           }
          ],
          "histogram2d": [
           {
            "colorbar": {
             "outlinewidth": 0,
             "ticks": ""
            },
            "colorscale": [
             [
              0,
              "#0d0887"
             ],
             [
              0.1111111111111111,
              "#46039f"
             ],
             [
              0.2222222222222222,
              "#7201a8"
             ],
             [
              0.3333333333333333,
              "#9c179e"
             ],
             [
              0.4444444444444444,
              "#bd3786"
             ],
             [
              0.5555555555555556,
              "#d8576b"
             ],
             [
              0.6666666666666666,
              "#ed7953"
             ],
             [
              0.7777777777777778,
              "#fb9f3a"
             ],
             [
              0.8888888888888888,
              "#fdca26"
             ],
             [
              1,
              "#f0f921"
             ]
            ],
            "type": "histogram2d"
           }
          ],
          "histogram2dcontour": [
           {
            "colorbar": {
             "outlinewidth": 0,
             "ticks": ""
            },
            "colorscale": [
             [
              0,
              "#0d0887"
             ],
             [
              0.1111111111111111,
              "#46039f"
             ],
             [
              0.2222222222222222,
              "#7201a8"
             ],
             [
              0.3333333333333333,
              "#9c179e"
             ],
             [
              0.4444444444444444,
              "#bd3786"
             ],
             [
              0.5555555555555556,
              "#d8576b"
             ],
             [
              0.6666666666666666,
              "#ed7953"
             ],
             [
              0.7777777777777778,
              "#fb9f3a"
             ],
             [
              0.8888888888888888,
              "#fdca26"
             ],
             [
              1,
              "#f0f921"
             ]
            ],
            "type": "histogram2dcontour"
           }
          ],
          "mesh3d": [
           {
            "colorbar": {
             "outlinewidth": 0,
             "ticks": ""
            },
            "type": "mesh3d"
           }
          ],
          "parcoords": [
           {
            "line": {
             "colorbar": {
              "outlinewidth": 0,
              "ticks": ""
             }
            },
            "type": "parcoords"
           }
          ],
          "pie": [
           {
            "automargin": true,
            "type": "pie"
           }
          ],
          "scatter": [
           {
            "marker": {
             "colorbar": {
              "outlinewidth": 0,
              "ticks": ""
             }
            },
            "type": "scatter"
           }
          ],
          "scatter3d": [
           {
            "line": {
             "colorbar": {
              "outlinewidth": 0,
              "ticks": ""
             }
            },
            "marker": {
             "colorbar": {
              "outlinewidth": 0,
              "ticks": ""
             }
            },
            "type": "scatter3d"
           }
          ],
          "scattercarpet": [
           {
            "marker": {
             "colorbar": {
              "outlinewidth": 0,
              "ticks": ""
             }
            },
            "type": "scattercarpet"
           }
          ],
          "scattergeo": [
           {
            "marker": {
             "colorbar": {
              "outlinewidth": 0,
              "ticks": ""
             }
            },
            "type": "scattergeo"
           }
          ],
          "scattergl": [
           {
            "marker": {
             "colorbar": {
              "outlinewidth": 0,
              "ticks": ""
             }
            },
            "type": "scattergl"
           }
          ],
          "scattermapbox": [
           {
            "marker": {
             "colorbar": {
              "outlinewidth": 0,
              "ticks": ""
             }
            },
            "type": "scattermapbox"
           }
          ],
          "scatterpolar": [
           {
            "marker": {
             "colorbar": {
              "outlinewidth": 0,
              "ticks": ""
             }
            },
            "type": "scatterpolar"
           }
          ],
          "scatterpolargl": [
           {
            "marker": {
             "colorbar": {
              "outlinewidth": 0,
              "ticks": ""
             }
            },
            "type": "scatterpolargl"
           }
          ],
          "scatterternary": [
           {
            "marker": {
             "colorbar": {
              "outlinewidth": 0,
              "ticks": ""
             }
            },
            "type": "scatterternary"
           }
          ],
          "surface": [
           {
            "colorbar": {
             "outlinewidth": 0,
             "ticks": ""
            },
            "colorscale": [
             [
              0,
              "#0d0887"
             ],
             [
              0.1111111111111111,
              "#46039f"
             ],
             [
              0.2222222222222222,
              "#7201a8"
             ],
             [
              0.3333333333333333,
              "#9c179e"
             ],
             [
              0.4444444444444444,
              "#bd3786"
             ],
             [
              0.5555555555555556,
              "#d8576b"
             ],
             [
              0.6666666666666666,
              "#ed7953"
             ],
             [
              0.7777777777777778,
              "#fb9f3a"
             ],
             [
              0.8888888888888888,
              "#fdca26"
             ],
             [
              1,
              "#f0f921"
             ]
            ],
            "type": "surface"
           }
          ],
          "table": [
           {
            "cells": {
             "fill": {
              "color": "#EBF0F8"
             },
             "line": {
              "color": "white"
             }
            },
            "header": {
             "fill": {
              "color": "#C8D4E3"
             },
             "line": {
              "color": "white"
             }
            },
            "type": "table"
           }
          ]
         },
         "layout": {
          "annotationdefaults": {
           "arrowcolor": "#2a3f5f",
           "arrowhead": 0,
           "arrowwidth": 1
          },
          "autotypenumbers": "strict",
          "coloraxis": {
           "colorbar": {
            "outlinewidth": 0,
            "ticks": ""
           }
          },
          "colorscale": {
           "diverging": [
            [
             0,
             "#8e0152"
            ],
            [
             0.1,
             "#c51b7d"
            ],
            [
             0.2,
             "#de77ae"
            ],
            [
             0.3,
             "#f1b6da"
            ],
            [
             0.4,
             "#fde0ef"
            ],
            [
             0.5,
             "#f7f7f7"
            ],
            [
             0.6,
             "#e6f5d0"
            ],
            [
             0.7,
             "#b8e186"
            ],
            [
             0.8,
             "#7fbc41"
            ],
            [
             0.9,
             "#4d9221"
            ],
            [
             1,
             "#276419"
            ]
           ],
           "sequential": [
            [
             0,
             "#0d0887"
            ],
            [
             0.1111111111111111,
             "#46039f"
            ],
            [
             0.2222222222222222,
             "#7201a8"
            ],
            [
             0.3333333333333333,
             "#9c179e"
            ],
            [
             0.4444444444444444,
             "#bd3786"
            ],
            [
             0.5555555555555556,
             "#d8576b"
            ],
            [
             0.6666666666666666,
             "#ed7953"
            ],
            [
             0.7777777777777778,
             "#fb9f3a"
            ],
            [
             0.8888888888888888,
             "#fdca26"
            ],
            [
             1,
             "#f0f921"
            ]
           ],
           "sequentialminus": [
            [
             0,
             "#0d0887"
            ],
            [
             0.1111111111111111,
             "#46039f"
            ],
            [
             0.2222222222222222,
             "#7201a8"
            ],
            [
             0.3333333333333333,
             "#9c179e"
            ],
            [
             0.4444444444444444,
             "#bd3786"
            ],
            [
             0.5555555555555556,
             "#d8576b"
            ],
            [
             0.6666666666666666,
             "#ed7953"
            ],
            [
             0.7777777777777778,
             "#fb9f3a"
            ],
            [
             0.8888888888888888,
             "#fdca26"
            ],
            [
             1,
             "#f0f921"
            ]
           ]
          },
          "colorway": [
           "#636efa",
           "#EF553B",
           "#00cc96",
           "#ab63fa",
           "#FFA15A",
           "#19d3f3",
           "#FF6692",
           "#B6E880",
           "#FF97FF",
           "#FECB52"
          ],
          "font": {
           "color": "#2a3f5f"
          },
          "geo": {
           "bgcolor": "white",
           "lakecolor": "white",
           "landcolor": "#E5ECF6",
           "showlakes": true,
           "showland": true,
           "subunitcolor": "white"
          },
          "hoverlabel": {
           "align": "left"
          },
          "hovermode": "closest",
          "mapbox": {
           "style": "light"
          },
          "paper_bgcolor": "white",
          "plot_bgcolor": "#E5ECF6",
          "polar": {
           "angularaxis": {
            "gridcolor": "white",
            "linecolor": "white",
            "ticks": ""
           },
           "bgcolor": "#E5ECF6",
           "radialaxis": {
            "gridcolor": "white",
            "linecolor": "white",
            "ticks": ""
           }
          },
          "scene": {
           "xaxis": {
            "backgroundcolor": "#E5ECF6",
            "gridcolor": "white",
            "gridwidth": 2,
            "linecolor": "white",
            "showbackground": true,
            "ticks": "",
            "zerolinecolor": "white"
           },
           "yaxis": {
            "backgroundcolor": "#E5ECF6",
            "gridcolor": "white",
            "gridwidth": 2,
            "linecolor": "white",
            "showbackground": true,
            "ticks": "",
            "zerolinecolor": "white"
           },
           "zaxis": {
            "backgroundcolor": "#E5ECF6",
            "gridcolor": "white",
            "gridwidth": 2,
            "linecolor": "white",
            "showbackground": true,
            "ticks": "",
            "zerolinecolor": "white"
           }
          },
          "shapedefaults": {
           "line": {
            "color": "#2a3f5f"
           }
          },
          "ternary": {
           "aaxis": {
            "gridcolor": "white",
            "linecolor": "white",
            "ticks": ""
           },
           "baxis": {
            "gridcolor": "white",
            "linecolor": "white",
            "ticks": ""
           },
           "bgcolor": "#E5ECF6",
           "caxis": {
            "gridcolor": "white",
            "linecolor": "white",
            "ticks": ""
           }
          },
          "title": {
           "x": 0.05
          },
          "xaxis": {
           "automargin": true,
           "gridcolor": "white",
           "linecolor": "white",
           "ticks": "",
           "title": {
            "standoff": 15
           },
           "zerolinecolor": "white",
           "zerolinewidth": 2
          },
          "yaxis": {
           "automargin": true,
           "gridcolor": "white",
           "linecolor": "white",
           "ticks": "",
           "title": {
            "standoff": 15
           },
           "zerolinecolor": "white",
           "zerolinewidth": 2
          }
         }
        },
        "title": {
         "font": {
          "color": "Green",
          "family": "roborto",
          "size": 20
         },
         "text": "Top posts of particular subreddits (Bubbles denote posts)",
         "x": 0.43
        },
        "xaxis": {
         "anchor": "y",
         "domain": [
          0,
          1
         ],
         "title": {
          "font": {
           "color": "crimson",
           "family": "Courier",
           "size": 18
          },
          "text": "Upvotes"
         }
        },
        "yaxis": {
         "anchor": "x",
         "domain": [
          0,
          1
         ],
         "title": {
          "font": {
           "color": "crimson",
           "family": "Courier",
           "size": 18
          },
          "text": "Total Awards"
         }
        }
       }
      },
      "text/html": [
       "<div>                            <div id=\"8816b580-fc3c-4618-9d98-dea7ecfeb4f3\" class=\"plotly-graph-div\" style=\"height:525px; width:100%;\"></div>            <script type=\"text/javascript\">                require([\"plotly\"], function(Plotly) {                    window.PLOTLYENV=window.PLOTLYENV || {};                                    if (document.getElementById(\"8816b580-fc3c-4618-9d98-dea7ecfeb4f3\")) {                    Plotly.newPlot(                        \"8816b580-fc3c-4618-9d98-dea7ecfeb4f3\",                        [{\"customdata\":[[\"RegularNoodles\"],[\"Vesto241\"],[\"Appropriate_Check125\"],[\"88T3\"],[\"Crossbar-Hero\"],[\"Edward_Penishand\"],[\"Late-Swimmer-3194\"],[\"Vinsmoke_Yagami\"],[\"HundredPannyz\"],[\"PooPooDooDoo\"]],\"hovertemplate\":\"Subreddit=memes<br>Upvotes=%{x}<br>Total Awards=%{y}<br>Total Comments=%{marker.size}<br>Username=%{customdata[0]}<extra></extra>\",\"legendgroup\":\"memes\",\"marker\":{\"color\":\"#636efa\",\"size\":[496,433,220,340,484,49,55,87,105,302],\"sizemode\":\"area\",\"sizeref\":0.768,\"symbol\":\"circle\"},\"mode\":\"markers\",\"name\":\"memes\",\"orientation\":\"v\",\"showlegend\":true,\"x\":[73400,67112,31495,28063,19641,16109,14959,13674,12698,12438],\"xaxis\":\"x\",\"y\":[154,66,24,53,15,13,10,5,20,11],\"yaxis\":\"y\",\"type\":\"scatter\"},{\"customdata\":[[\"wecookingitup\"],[\"clopz_\"],[\"SwollenLeftThumb\"],[\"KSH98\"],[\"kchoyin\"],[\"The_Love-Tap\"],[\"Killshot64\"],[\"shamansufi\"],[\"BusyBusyBizzy\"],[\"GroundbreakingSet187\"]],\"hovertemplate\":\"Subreddit=Damnthatsinteresting<br>Upvotes=%{x}<br>Total Awards=%{y}<br>Total Comments=%{marker.size}<br>Username=%{customdata[0]}<extra></extra>\",\"legendgroup\":\"Damnthatsinteresting\",\"marker\":{\"color\":\"#EF553B\",\"size\":[1920,1876,837,285,449,214,206,258,227,101],\"sizemode\":\"area\",\"sizeref\":0.768,\"symbol\":\"circle\"},\"mode\":\"markers\",\"name\":\"Damnthatsinteresting\",\"orientation\":\"v\",\"showlegend\":true,\"x\":[71603,53746,26864,27449,15724,13394,5500,4608,3320,2614],\"xaxis\":\"x\",\"y\":[56,87,37,46,25,9,3,4,8,1],\"yaxis\":\"y\",\"type\":\"scatter\"},{\"customdata\":[[\"Sn-Quentin\"],[\"aaravaryaman\"],[\"Zer0theNumberr\"],[\"mavenmike\"],[\"passing-through-\"],[\"ZiraelN7\"],[\"ninety2two\"],[\"Treefiddy1984\"],[\"DaWeyHowBoutDah\"],[\"Leading_Technician\"]],\"hovertemplate\":\"Subreddit=Unexpected<br>Upvotes=%{x}<br>Total Awards=%{y}<br>Total Comments=%{marker.size}<br>Username=%{customdata[0]}<extra></extra>\",\"legendgroup\":\"Unexpected\",\"marker\":{\"color\":\"#00cc96\",\"size\":[1126,1645,94,594,177,46,54,69,129,76],\"sizemode\":\"area\",\"sizeref\":0.768,\"symbol\":\"circle\"},\"mode\":\"markers\",\"name\":\"Unexpected\",\"orientation\":\"v\",\"showlegend\":true,\"x\":[92779,86924,15509,10644,10933,6056,6139,4732,2437,2099],\"xaxis\":\"x\",\"y\":[116,184,11,11,5,4,3,3,4,11],\"yaxis\":\"y\",\"type\":\"scatter\"},{\"customdata\":[[\"knivesxonly\"],[\"juicy_chase\"],[\"solidiquis1\"],[\"Handsome_Unit69\"],[\"theDeadizDead\"],[\"YarraYarra\"],[\"Ftlauddawg\"],[\"theycantalk\"],[\"MyDogGoldi\"],[\"Specter017\"]],\"hovertemplate\":\"Subreddit=funny<br>Upvotes=%{x}<br>Total Awards=%{y}<br>Total Comments=%{marker.size}<br>Username=%{customdata[0]}<extra></extra>\",\"legendgroup\":\"funny\",\"marker\":{\"color\":\"#ab63fa\",\"size\":[1233,48,228,203,172,203,1013,56,160,181],\"sizemode\":\"area\",\"sizeref\":0.768,\"symbol\":\"circle\"},\"mode\":\"markers\",\"name\":\"funny\",\"orientation\":\"v\",\"showlegend\":true,\"x\":[43103,30572,22873,22916,16582,14542,11852,7485,7046,5594],\"xaxis\":\"x\",\"y\":[30,18,23,26,21,6,21,2,13,4],\"yaxis\":\"y\",\"type\":\"scatter\"},{\"customdata\":[[\"mmajamm\"],[\"vladgrinch\"],[\"boykob\"],[\"The_Love-Tap\"],[\"Kinofetish\"],[\"NickyboySP\"],[\"pigjingles\"],[\"OsamaCripWalkz\"],[\"lmaosmh\"],[\"AmVeryVery\"]],\"hovertemplate\":\"Subreddit=aww<br>Upvotes=%{x}<br>Total Awards=%{y}<br>Total Comments=%{marker.size}<br>Username=%{customdata[0]}<extra></extra>\",\"legendgroup\":\"aww\",\"marker\":{\"color\":\"#FFA15A\",\"size\":[612,474,629,103,234,58,38,33,24,23],\"sizemode\":\"area\",\"sizeref\":0.768,\"symbol\":\"circle\"},\"mode\":\"markers\",\"name\":\"aww\",\"orientation\":\"v\",\"showlegend\":true,\"x\":[71344,48415,41163,21160,15856,7290,6821,4736,3640,2547],\"xaxis\":\"x\",\"y\":[189,127,56,56,51,13,6,7,11,3],\"yaxis\":\"y\",\"type\":\"scatter\"}],                        {\"template\":{\"data\":{\"bar\":[{\"error_x\":{\"color\":\"#2a3f5f\"},\"error_y\":{\"color\":\"#2a3f5f\"},\"marker\":{\"line\":{\"color\":\"#E5ECF6\",\"width\":0.5},\"pattern\":{\"fillmode\":\"overlay\",\"size\":10,\"solidity\":0.2}},\"type\":\"bar\"}],\"barpolar\":[{\"marker\":{\"line\":{\"color\":\"#E5ECF6\",\"width\":0.5},\"pattern\":{\"fillmode\":\"overlay\",\"size\":10,\"solidity\":0.2}},\"type\":\"barpolar\"}],\"carpet\":[{\"aaxis\":{\"endlinecolor\":\"#2a3f5f\",\"gridcolor\":\"white\",\"linecolor\":\"white\",\"minorgridcolor\":\"white\",\"startlinecolor\":\"#2a3f5f\"},\"baxis\":{\"endlinecolor\":\"#2a3f5f\",\"gridcolor\":\"white\",\"linecolor\":\"white\",\"minorgridcolor\":\"white\",\"startlinecolor\":\"#2a3f5f\"},\"type\":\"carpet\"}],\"choropleth\":[{\"colorbar\":{\"outlinewidth\":0,\"ticks\":\"\"},\"type\":\"choropleth\"}],\"contour\":[{\"colorbar\":{\"outlinewidth\":0,\"ticks\":\"\"},\"colorscale\":[[0.0,\"#0d0887\"],[0.1111111111111111,\"#46039f\"],[0.2222222222222222,\"#7201a8\"],[0.3333333333333333,\"#9c179e\"],[0.4444444444444444,\"#bd3786\"],[0.5555555555555556,\"#d8576b\"],[0.6666666666666666,\"#ed7953\"],[0.7777777777777778,\"#fb9f3a\"],[0.8888888888888888,\"#fdca26\"],[1.0,\"#f0f921\"]],\"type\":\"contour\"}],\"contourcarpet\":[{\"colorbar\":{\"outlinewidth\":0,\"ticks\":\"\"},\"type\":\"contourcarpet\"}],\"heatmap\":[{\"colorbar\":{\"outlinewidth\":0,\"ticks\":\"\"},\"colorscale\":[[0.0,\"#0d0887\"],[0.1111111111111111,\"#46039f\"],[0.2222222222222222,\"#7201a8\"],[0.3333333333333333,\"#9c179e\"],[0.4444444444444444,\"#bd3786\"],[0.5555555555555556,\"#d8576b\"],[0.6666666666666666,\"#ed7953\"],[0.7777777777777778,\"#fb9f3a\"],[0.8888888888888888,\"#fdca26\"],[1.0,\"#f0f921\"]],\"type\":\"heatmap\"}],\"heatmapgl\":[{\"colorbar\":{\"outlinewidth\":0,\"ticks\":\"\"},\"colorscale\":[[0.0,\"#0d0887\"],[0.1111111111111111,\"#46039f\"],[0.2222222222222222,\"#7201a8\"],[0.3333333333333333,\"#9c179e\"],[0.4444444444444444,\"#bd3786\"],[0.5555555555555556,\"#d8576b\"],[0.6666666666666666,\"#ed7953\"],[0.7777777777777778,\"#fb9f3a\"],[0.8888888888888888,\"#fdca26\"],[1.0,\"#f0f921\"]],\"type\":\"heatmapgl\"}],\"histogram\":[{\"marker\":{\"pattern\":{\"fillmode\":\"overlay\",\"size\":10,\"solidity\":0.2}},\"type\":\"histogram\"}],\"histogram2d\":[{\"colorbar\":{\"outlinewidth\":0,\"ticks\":\"\"},\"colorscale\":[[0.0,\"#0d0887\"],[0.1111111111111111,\"#46039f\"],[0.2222222222222222,\"#7201a8\"],[0.3333333333333333,\"#9c179e\"],[0.4444444444444444,\"#bd3786\"],[0.5555555555555556,\"#d8576b\"],[0.6666666666666666,\"#ed7953\"],[0.7777777777777778,\"#fb9f3a\"],[0.8888888888888888,\"#fdca26\"],[1.0,\"#f0f921\"]],\"type\":\"histogram2d\"}],\"histogram2dcontour\":[{\"colorbar\":{\"outlinewidth\":0,\"ticks\":\"\"},\"colorscale\":[[0.0,\"#0d0887\"],[0.1111111111111111,\"#46039f\"],[0.2222222222222222,\"#7201a8\"],[0.3333333333333333,\"#9c179e\"],[0.4444444444444444,\"#bd3786\"],[0.5555555555555556,\"#d8576b\"],[0.6666666666666666,\"#ed7953\"],[0.7777777777777778,\"#fb9f3a\"],[0.8888888888888888,\"#fdca26\"],[1.0,\"#f0f921\"]],\"type\":\"histogram2dcontour\"}],\"mesh3d\":[{\"colorbar\":{\"outlinewidth\":0,\"ticks\":\"\"},\"type\":\"mesh3d\"}],\"parcoords\":[{\"line\":{\"colorbar\":{\"outlinewidth\":0,\"ticks\":\"\"}},\"type\":\"parcoords\"}],\"pie\":[{\"automargin\":true,\"type\":\"pie\"}],\"scatter\":[{\"marker\":{\"colorbar\":{\"outlinewidth\":0,\"ticks\":\"\"}},\"type\":\"scatter\"}],\"scatter3d\":[{\"line\":{\"colorbar\":{\"outlinewidth\":0,\"ticks\":\"\"}},\"marker\":{\"colorbar\":{\"outlinewidth\":0,\"ticks\":\"\"}},\"type\":\"scatter3d\"}],\"scattercarpet\":[{\"marker\":{\"colorbar\":{\"outlinewidth\":0,\"ticks\":\"\"}},\"type\":\"scattercarpet\"}],\"scattergeo\":[{\"marker\":{\"colorbar\":{\"outlinewidth\":0,\"ticks\":\"\"}},\"type\":\"scattergeo\"}],\"scattergl\":[{\"marker\":{\"colorbar\":{\"outlinewidth\":0,\"ticks\":\"\"}},\"type\":\"scattergl\"}],\"scattermapbox\":[{\"marker\":{\"colorbar\":{\"outlinewidth\":0,\"ticks\":\"\"}},\"type\":\"scattermapbox\"}],\"scatterpolar\":[{\"marker\":{\"colorbar\":{\"outlinewidth\":0,\"ticks\":\"\"}},\"type\":\"scatterpolar\"}],\"scatterpolargl\":[{\"marker\":{\"colorbar\":{\"outlinewidth\":0,\"ticks\":\"\"}},\"type\":\"scatterpolargl\"}],\"scatterternary\":[{\"marker\":{\"colorbar\":{\"outlinewidth\":0,\"ticks\":\"\"}},\"type\":\"scatterternary\"}],\"surface\":[{\"colorbar\":{\"outlinewidth\":0,\"ticks\":\"\"},\"colorscale\":[[0.0,\"#0d0887\"],[0.1111111111111111,\"#46039f\"],[0.2222222222222222,\"#7201a8\"],[0.3333333333333333,\"#9c179e\"],[0.4444444444444444,\"#bd3786\"],[0.5555555555555556,\"#d8576b\"],[0.6666666666666666,\"#ed7953\"],[0.7777777777777778,\"#fb9f3a\"],[0.8888888888888888,\"#fdca26\"],[1.0,\"#f0f921\"]],\"type\":\"surface\"}],\"table\":[{\"cells\":{\"fill\":{\"color\":\"#EBF0F8\"},\"line\":{\"color\":\"white\"}},\"header\":{\"fill\":{\"color\":\"#C8D4E3\"},\"line\":{\"color\":\"white\"}},\"type\":\"table\"}]},\"layout\":{\"annotationdefaults\":{\"arrowcolor\":\"#2a3f5f\",\"arrowhead\":0,\"arrowwidth\":1},\"autotypenumbers\":\"strict\",\"coloraxis\":{\"colorbar\":{\"outlinewidth\":0,\"ticks\":\"\"}},\"colorscale\":{\"diverging\":[[0,\"#8e0152\"],[0.1,\"#c51b7d\"],[0.2,\"#de77ae\"],[0.3,\"#f1b6da\"],[0.4,\"#fde0ef\"],[0.5,\"#f7f7f7\"],[0.6,\"#e6f5d0\"],[0.7,\"#b8e186\"],[0.8,\"#7fbc41\"],[0.9,\"#4d9221\"],[1,\"#276419\"]],\"sequential\":[[0.0,\"#0d0887\"],[0.1111111111111111,\"#46039f\"],[0.2222222222222222,\"#7201a8\"],[0.3333333333333333,\"#9c179e\"],[0.4444444444444444,\"#bd3786\"],[0.5555555555555556,\"#d8576b\"],[0.6666666666666666,\"#ed7953\"],[0.7777777777777778,\"#fb9f3a\"],[0.8888888888888888,\"#fdca26\"],[1.0,\"#f0f921\"]],\"sequentialminus\":[[0.0,\"#0d0887\"],[0.1111111111111111,\"#46039f\"],[0.2222222222222222,\"#7201a8\"],[0.3333333333333333,\"#9c179e\"],[0.4444444444444444,\"#bd3786\"],[0.5555555555555556,\"#d8576b\"],[0.6666666666666666,\"#ed7953\"],[0.7777777777777778,\"#fb9f3a\"],[0.8888888888888888,\"#fdca26\"],[1.0,\"#f0f921\"]]},\"colorway\":[\"#636efa\",\"#EF553B\",\"#00cc96\",\"#ab63fa\",\"#FFA15A\",\"#19d3f3\",\"#FF6692\",\"#B6E880\",\"#FF97FF\",\"#FECB52\"],\"font\":{\"color\":\"#2a3f5f\"},\"geo\":{\"bgcolor\":\"white\",\"lakecolor\":\"white\",\"landcolor\":\"#E5ECF6\",\"showlakes\":true,\"showland\":true,\"subunitcolor\":\"white\"},\"hoverlabel\":{\"align\":\"left\"},\"hovermode\":\"closest\",\"mapbox\":{\"style\":\"light\"},\"paper_bgcolor\":\"white\",\"plot_bgcolor\":\"#E5ECF6\",\"polar\":{\"angularaxis\":{\"gridcolor\":\"white\",\"linecolor\":\"white\",\"ticks\":\"\"},\"bgcolor\":\"#E5ECF6\",\"radialaxis\":{\"gridcolor\":\"white\",\"linecolor\":\"white\",\"ticks\":\"\"}},\"scene\":{\"xaxis\":{\"backgroundcolor\":\"#E5ECF6\",\"gridcolor\":\"white\",\"gridwidth\":2,\"linecolor\":\"white\",\"showbackground\":true,\"ticks\":\"\",\"zerolinecolor\":\"white\"},\"yaxis\":{\"backgroundcolor\":\"#E5ECF6\",\"gridcolor\":\"white\",\"gridwidth\":2,\"linecolor\":\"white\",\"showbackground\":true,\"ticks\":\"\",\"zerolinecolor\":\"white\"},\"zaxis\":{\"backgroundcolor\":\"#E5ECF6\",\"gridcolor\":\"white\",\"gridwidth\":2,\"linecolor\":\"white\",\"showbackground\":true,\"ticks\":\"\",\"zerolinecolor\":\"white\"}},\"shapedefaults\":{\"line\":{\"color\":\"#2a3f5f\"}},\"ternary\":{\"aaxis\":{\"gridcolor\":\"white\",\"linecolor\":\"white\",\"ticks\":\"\"},\"baxis\":{\"gridcolor\":\"white\",\"linecolor\":\"white\",\"ticks\":\"\"},\"bgcolor\":\"#E5ECF6\",\"caxis\":{\"gridcolor\":\"white\",\"linecolor\":\"white\",\"ticks\":\"\"}},\"title\":{\"x\":0.05},\"xaxis\":{\"automargin\":true,\"gridcolor\":\"white\",\"linecolor\":\"white\",\"ticks\":\"\",\"title\":{\"standoff\":15},\"zerolinecolor\":\"white\",\"zerolinewidth\":2},\"yaxis\":{\"automargin\":true,\"gridcolor\":\"white\",\"linecolor\":\"white\",\"ticks\":\"\",\"title\":{\"standoff\":15},\"zerolinecolor\":\"white\",\"zerolinewidth\":2}}},\"xaxis\":{\"anchor\":\"y\",\"domain\":[0.0,1.0],\"title\":{\"text\":\"Upvotes\",\"font\":{\"size\":18,\"family\":\"Courier\",\"color\":\"crimson\"}}},\"yaxis\":{\"anchor\":\"x\",\"domain\":[0.0,1.0],\"title\":{\"text\":\"Total Awards\",\"font\":{\"size\":18,\"family\":\"Courier\",\"color\":\"crimson\"}}},\"legend\":{\"title\":{\"text\":\"Subreddit\"},\"tracegroupgap\":0,\"itemsizing\":\"constant\",\"font\":{\"family\":\"Courier\",\"size\":12,\"color\":\"Red\"},\"bgcolor\":\"LightYellow\",\"bordercolor\":\"LightBlue\",\"borderwidth\":2},\"margin\":{\"t\":60},\"title\":{\"font\":{\"family\":\"roborto\",\"size\":20,\"color\":\"Green\"},\"text\":\"Top posts of particular subreddits (Bubbles denote posts)\",\"x\":0.43}},                        {\"responsive\": true}                    ).then(function(){\n",
       "                            \n",
       "var gd = document.getElementById('8816b580-fc3c-4618-9d98-dea7ecfeb4f3');\n",
       "var x = new MutationObserver(function (mutations, observer) {{\n",
       "        var display = window.getComputedStyle(gd).display;\n",
       "        if (!display || display === 'none') {{\n",
       "            console.log([gd, 'removed!']);\n",
       "            Plotly.purge(gd);\n",
       "            observer.disconnect();\n",
       "        }}\n",
       "}});\n",
       "\n",
       "// Listen for the removal of the full notebook cells\n",
       "var notebookContainer = gd.closest('#notebook-container');\n",
       "if (notebookContainer) {{\n",
       "    x.observe(notebookContainer, {childList: true});\n",
       "}}\n",
       "\n",
       "// Listen for the clearing of the current output cell\n",
       "var outputEl = gd.closest('.output');\n",
       "if (outputEl) {{\n",
       "    x.observe(outputEl, {childList: true});\n",
       "}}\n",
       "\n",
       "                        })                };                });            </script>        </div>"
      ]
     },
     "metadata": {},
     "output_type": "display_data"
    }
   ],
   "source": [
    "df = scatter(10,'memes','damnthatsinteresting','unexpected','funny','aww')\n",
    "fig = px.scatter(df, x=\"Upvotes\", y=\"Total Awards\", color=\"Subreddit\",\n",
    "                 size='Total Comments',hover_data=['Username'],size_max= 50)\n",
    "fig.update_layout(title_text='Top posts of particular subreddits (Bubbles denote posts)', title_x=0.43,title=dict(\n",
    "        font=dict(\n",
    "            family=\"roborto\",\n",
    "            size=20,\n",
    "            color=\"Green\"\n",
    "        )))\n",
    "fig.update_layout(\n",
    "    legend=dict(\n",
    "        font=dict(\n",
    "            family=\"Courier\",\n",
    "            size=12,\n",
    "            color=\"Red\"\n",
    "        ),\n",
    "        bgcolor=\"LightYellow\",\n",
    "        bordercolor=\"LightBlue\",\n",
    "        borderwidth=2\n",
    "    )\n",
    ")\n",
    "fig.update_xaxes(title_font=dict(size=18, family='Courier', color='crimson'))\n",
    "fig.update_yaxes(title_font=dict(size=18, family='Courier', color='crimson'))"
   ]
  }
 ],
 "metadata": {
  "interpreter": {
   "hash": "10ea401c57974083d72007c9f9dc3837b0d2be6d72a3c23504e3a619fd0fed26"
  },
  "kernelspec": {
   "display_name": "Python 3.8.5 64-bit",
   "language": "python",
   "name": "python3"
  },
  "language_info": {
   "codemirror_mode": {
    "name": "ipython",
    "version": 3
   },
   "file_extension": ".py",
   "mimetype": "text/x-python",
   "name": "python",
   "nbconvert_exporter": "python",
   "pygments_lexer": "ipython3",
   "version": "3.8.5"
  },
  "orig_nbformat": 4
 },
 "nbformat": 4,
 "nbformat_minor": 2
}
