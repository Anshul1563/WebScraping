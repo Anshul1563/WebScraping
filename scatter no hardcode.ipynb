{
 "cells": [
  {
   "cell_type": "code",
   "execution_count": null,
   "metadata": {},
   "outputs": [],
   "source": [
    "import praw\n",
    "reddit = praw.Reddit(\n",
    "    client_id=\"wBlYlJ7XtNtL0d1fEAj-vg\",\n",
    "    client_secret=\"muW07OSaCr5I4Dj23Sn7HeFeoifSLg\",\n",
    "    user_agent=\"a12487\"\n",
    ")\n",
    "import pandas as pd\n",
    "import numpy as np\n",
    "import chart_studio.plotly as py\n",
    "import cufflinks as cf\n",
    "import seaborn as sns\n",
    "import plotly.express as px\n",
    "%matplotlib inline\n",
    "from plotly.offline import download_plotlyjs, init_notebook_mode, plot, iplot\n",
    "init_notebook_mode(connected=True)\n",
    "cf.go_offline()\n",
    "import plotly.graph_objects as go"
   ]
  },
  {
   "cell_type": "code",
   "execution_count": null,
   "metadata": {},
   "outputs": [],
   "source": [
    "def scatter(n,*subs):        # n is the number of posts per subreddit\n",
    "    data = []\n",
    "    for x in subs:\n",
    "        for y in reddit.subreddit(x).top('day',limit=n):\n",
    "            data.append([y.subreddit.display_name,y.score,y.num_comments,str(y.author.name),y.total_awards_received,y.url])\n",
    "    df = pd.DataFrame(data, columns =['Subreddit', 'Upvotes', 'Total Comments','Username','Total Awards','url'])\n",
    "    return df\n",
    "\n",
    "\n"
   ]
  },
  {
   "cell_type": "code",
   "execution_count": null,
   "metadata": {},
   "outputs": [],
   "source": [
    "'''df = scatter(4,'memes','damnthatsinteresting','gaming','unexpected','nextfuckinglevel')\n",
    "fig = px.scatter(df, x=\"Upvotes\", y=\"Total Awards\", color=\"Subreddit\",\n",
    "                 size='Total Comments',hover_data=['Username'],size_max= 50)\n",
    "fig.update_layout(title_text='Top posts of particular subreddits (Bubbles denote posts)', title_x=0.43,title=dict(\n",
    "        font=dict(\n",
    "            family=\"roborto\",\n",
    "            size=20,\n",
    "            color=\"Green\"\n",
    "        )))\n",
    "fig.update_layout(\n",
    "    legend=dict(\n",
    "        font=dict(\n",
    "            family=\"Courier\",\n",
    "            size=12,\n",
    "            color=\"Red\"\n",
    "        ),\n",
    "        bgcolor=\"LightYellow\",\n",
    "        bordercolor=\"LightBlue\",\n",
    "        borderwidth=2\n",
    "    )\n",
    ")\n",
    "fig.update_xaxes(title_font=dict(size=18, family='Courier', color='crimson'))\n",
    "fig.update_yaxes(title_font=dict(size=18, family='Courier', color='crimson'))'''"
   ]
  }
 ],
 "metadata": {
  "interpreter": {
   "hash": "10ea401c57974083d72007c9f9dc3837b0d2be6d72a3c23504e3a619fd0fed26"
  },
  "kernelspec": {
   "display_name": "Python 3.8.5 64-bit",
   "language": "python",
   "name": "python3"
  },
  "language_info": {
   "codemirror_mode": {
    "name": "ipython",
    "version": 3
   },
   "file_extension": ".py",
   "mimetype": "text/x-python",
   "name": "python",
   "nbconvert_exporter": "python",
   "pygments_lexer": "ipython3",
   "version": "3.8.5"
  },
  "orig_nbformat": 4
 },
 "nbformat": 4,
 "nbformat_minor": 2
}
