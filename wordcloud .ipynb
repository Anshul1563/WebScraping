{
 "cells": [
  {
   "cell_type": "code",
   "execution_count": null,
   "metadata": {},
   "outputs": [],
   "source": [
    "import praw\n",
    "reddit = praw.Reddit(\n",
    "    client_id=\"wBlYlJ7XtNtL0d1fEAj-vg\",\n",
    "    client_secret=\"muW07OSaCr5I4Dj23Sn7HeFeoifSLg\",\n",
    "    user_agent=\"a12487\"\n",
    ")\n",
    "import pandas as pd\n",
    "import numpy as np\n",
    "import chart_studio.plotly as py\n",
    "import cufflinks as cf\n",
    "import seaborn as sns\n",
    "import plotly.express as px\n",
    "%matplotlib inline\n",
    "from plotly.offline import download_plotlyjs, init_notebook_mode, plot, iplot\n",
    "init_notebook_mode(connected=True)\n",
    "cf.go_offline()\n",
    "import plotly.graph_objects as go"
   ]
  },
  {
   "cell_type": "code",
   "execution_count": null,
   "metadata": {},
   "outputs": [],
   "source": [
    "subreddit = reddit.subreddit('financialindependence') # Change the subreddit's name here \n",
    "sub_ids = []\n",
    "for submission in subreddit.hot(limit = 50): # Define the limit here and filter method\n",
    "    sub_ids.append(submission.id)\n",
    "    \n",
    "top_level_comments = []\n",
    "second_level_comments = []\n",
    "title = []\n",
    "selftext = []\n",
    "for sub_id in sub_ids:\n",
    "    submission = reddit.submission(id = sub_id)\n",
    "    title.append(submission.title) # Get submission title\n",
    "    selftext.append(submission.selftext) # Get submission content\n",
    "    submission.comments.replace_more(limit = None)\n",
    "    for top_level_comment in submission.comments:\n",
    "        top_level_comments.append(top_level_comment.body) # Get top-level comments\n",
    "        for second_level_comment in top_level_comment.replies:\n",
    "            second_level_comments.append(second_level_comment.body) # Get second-level comments"
   ]
  },
  {
   "cell_type": "code",
   "execution_count": 3,
   "metadata": {},
   "outputs": [],
   "source": [
    "subreddit = reddit.subreddit('financialindependence') # Change the subreddit's name here \n",
    "sub_ids = []\n",
    "for submission in subreddit.hot(limit = 50): # Define the limit here and filter method\n",
    "    sub_ids.append(submission.id)"
   ]
  },
  {
   "cell_type": "code",
   "execution_count": 6,
   "metadata": {},
   "outputs": [
    {
     "ename": "TypeError",
     "evalue": "vars() argument must have __dict__ attribute",
     "output_type": "error",
     "traceback": [
      "\u001b[1;31m---------------------------------------------------------------------------\u001b[0m",
      "\u001b[1;31mTypeError\u001b[0m                                 Traceback (most recent call last)",
      "\u001b[1;32m~\\AppData\\Local\\Temp/ipykernel_11928/1765284377.py\u001b[0m in \u001b[0;36m<module>\u001b[1;34m\u001b[0m\n\u001b[1;32m----> 1\u001b[1;33m \u001b[0mprint\u001b[0m\u001b[1;33m(\u001b[0m\u001b[0mvars\u001b[0m\u001b[1;33m(\u001b[0m\u001b[0msub_ids\u001b[0m\u001b[1;33m[\u001b[0m\u001b[1;36m0\u001b[0m\u001b[1;33m]\u001b[0m\u001b[1;33m)\u001b[0m\u001b[1;33m)\u001b[0m\u001b[1;33m\u001b[0m\u001b[1;33m\u001b[0m\u001b[0m\n\u001b[0m\u001b[0;32m      2\u001b[0m \u001b[1;33m\u001b[0m\u001b[0m\n",
      "\u001b[1;31mTypeError\u001b[0m: vars() argument must have __dict__ attribute"
     ]
    }
   ],
   "source": [
    "\n",
    "        "
   ]
  }
 ],
 "metadata": {
  "interpreter": {
   "hash": "10ea401c57974083d72007c9f9dc3837b0d2be6d72a3c23504e3a619fd0fed26"
  },
  "kernelspec": {
   "display_name": "Python 3.8.5 64-bit",
   "language": "python",
   "name": "python3"
  },
  "language_info": {
   "codemirror_mode": {
    "name": "ipython",
    "version": 3
   },
   "file_extension": ".py",
   "mimetype": "text/x-python",
   "name": "python",
   "nbconvert_exporter": "python",
   "pygments_lexer": "ipython3",
   "version": "3.8.5"
  },
  "orig_nbformat": 4
 },
 "nbformat": 4,
 "nbformat_minor": 2
}
